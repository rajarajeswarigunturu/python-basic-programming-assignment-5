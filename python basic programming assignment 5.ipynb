{
 "cells": [
  {
   "cell_type": "code",
   "execution_count": 1,
   "id": "75b62f71",
   "metadata": {},
   "outputs": [],
   "source": [
    "# 1. Write a Python Program to Find LCM?"
   ]
  },
  {
   "cell_type": "code",
   "execution_count": 8,
   "id": "909f1174",
   "metadata": {},
   "outputs": [],
   "source": [
    "def finding_lcm(x,y):\n",
    "    if x>y:\n",
    "        greater=x\n",
    "    else:\n",
    "        greater=y\n",
    "    \n",
    "    while(True):\n",
    "        if((greater%x == 0) and (greater%y==0)):\n",
    "            lcm=greater\n",
    "            break\n",
    "        greater+=1\n",
    "    return lcm\n"
   ]
  },
  {
   "cell_type": "code",
   "execution_count": 10,
   "id": "758f20fe",
   "metadata": {},
   "outputs": [
    {
     "data": {
      "text/plain": [
       "20"
      ]
     },
     "execution_count": 10,
     "metadata": {},
     "output_type": "execute_result"
    }
   ],
   "source": [
    "finding_lcm(4,5)"
   ]
  },
  {
   "cell_type": "code",
   "execution_count": 11,
   "id": "1fba83b9",
   "metadata": {},
   "outputs": [],
   "source": [
    "# 2. Write a Python Program to Find HCF?"
   ]
  },
  {
   "cell_type": "code",
   "execution_count": 12,
   "id": "a74096f2",
   "metadata": {},
   "outputs": [],
   "source": [
    "def hcf(a,b):\n",
    "    if a>b:\n",
    "        smaller=b\n",
    "    else:\n",
    "        smaller=a\n",
    "        \n",
    "    for i in range(1,smaller+1):\n",
    "        if((a % i==0) and (b % i==0)):\n",
    "            hcf=i\n",
    "    return hcf"
   ]
  },
  {
   "cell_type": "code",
   "execution_count": 14,
   "id": "ef2d700b",
   "metadata": {},
   "outputs": [
    {
     "data": {
      "text/plain": [
       "1"
      ]
     },
     "execution_count": 14,
     "metadata": {},
     "output_type": "execute_result"
    }
   ],
   "source": [
    "hcf(4,5)"
   ]
  },
  {
   "cell_type": "code",
   "execution_count": 15,
   "id": "462ee88d",
   "metadata": {},
   "outputs": [],
   "source": [
    "#3. Write a Python Program to Convert Decimal to Binary, \n",
    "# Octal and Hexadecimal?"
   ]
  },
  {
   "cell_type": "code",
   "execution_count": 18,
   "id": "d7fb2b07",
   "metadata": {},
   "outputs": [
    {
     "name": "stdout",
     "output_type": "stream",
     "text": [
      "205\n",
      "The decimal value of 205 is:\n",
      "0b11001101 in binary.\n",
      "0o315 in octal.\n",
      "0xcd in hexadecimal.\n"
     ]
    }
   ],
   "source": [
    "dec=int(input())\n",
    "\n",
    "print(\"The decimal value of\", dec ,\"is:\")\n",
    "print(bin(dec), \"in binary.\")\n",
    "print(oct(dec), \"in octal.\")\n",
    "print(hex(dec), \"in hexadecimal.\")"
   ]
  },
  {
   "cell_type": "code",
   "execution_count": 19,
   "id": "bda760f8",
   "metadata": {},
   "outputs": [],
   "source": [
    "#4.Write a Python Program To Find ASCII value of a character?"
   ]
  },
  {
   "cell_type": "code",
   "execution_count": 20,
   "id": "c7611302",
   "metadata": {},
   "outputs": [
    {
     "name": "stdout",
     "output_type": "stream",
     "text": [
      "The ASCII value of p is 112\n"
     ]
    }
   ],
   "source": [
    "c='p'\n",
    "print(\"The ASCII value of \"+c+\" is\", ord(c))"
   ]
  },
  {
   "cell_type": "code",
   "execution_count": 21,
   "id": "a3178ba7",
   "metadata": {},
   "outputs": [],
   "source": [
    "# 5. Write a Python Program to Make a Simple Calculator with\n",
    "# 4 basic mathematical operations?"
   ]
  },
  {
   "cell_type": "code",
   "execution_count": 2,
   "id": "ce756f59",
   "metadata": {},
   "outputs": [
    {
     "name": "stdout",
     "output_type": "stream",
     "text": [
      "select operation:\n",
      "1.add\n",
      "2.subtract\n",
      "3.multiply\n",
      "4.divide\n",
      "Enter choice(1/2/3/4):4\n",
      "enter first number:5\n",
      "enter second number:8\n",
      "5.0 / 8.0 = 0.625\n",
      "let's do next calculation? (yes/no):yes\n",
      "Enter choice(1/2/3/4):3\n",
      "enter first number:2\n",
      "enter second number:4\n",
      "2.0 * 4.0 = 8.0\n",
      "let's do next calculation? (yes/no):no\n"
     ]
    }
   ],
   "source": [
    "def add(a,b):\n",
    "    return a + b\n",
    "\n",
    "def subtract(a,b):\n",
    "    return a - b\n",
    "\n",
    "def multiply(a,b):\n",
    "    return a * b\n",
    "\n",
    "def divide(a,b):\n",
    "    return a/b\n",
    "\n",
    "print(\"select operation:\")\n",
    "print(\"1.add\")\n",
    "print(\"2.subtract\")\n",
    "print(\"3.multiply\")\n",
    "print(\"4.divide\")\n",
    "\n",
    "while True:\n",
    "    choice = input(\"Enter choice(1/2/3/4):\")\n",
    "    if choice in ('1','2','3','4'):\n",
    "        num1=float(input(\"enter first number:\"))\n",
    "        num2=float(input(\"enter second number:\"))\n",
    "        if choice == '1':\n",
    "            print(num1, \"+\", num2, \"=\", add(num1,num2))\n",
    "    \n",
    "        elif choice == '2':\n",
    "            print(num1, \"-\", num2, \"=\", subtract(num1,num2))\n",
    "        \n",
    "        elif choice == '3':\n",
    "            print(num1, \"*\", num2, \"=\", multiply(num1,num2))\n",
    "        \n",
    "        elif choice == '4':\n",
    "            print(num1, \"/\", num2, \"=\", divide(num1,num2))\n",
    "            \n",
    "        next_calculation =input(\"let's do next calculation? (yes/no):\")\n",
    "        if next_calculation == \"no\":\n",
    "            break\n",
    "    else:\n",
    "        print(\"invalid input\")\n",
    "        "
   ]
  },
  {
   "cell_type": "code",
   "execution_count": null,
   "id": "82346aa8",
   "metadata": {},
   "outputs": [],
   "source": []
  },
  {
   "cell_type": "code",
   "execution_count": null,
   "id": "62a5896a",
   "metadata": {},
   "outputs": [],
   "source": []
  }
 ],
 "metadata": {
  "kernelspec": {
   "display_name": "Python 3 (ipykernel)",
   "language": "python",
   "name": "python3"
  },
  "language_info": {
   "codemirror_mode": {
    "name": "ipython",
    "version": 3
   },
   "file_extension": ".py",
   "mimetype": "text/x-python",
   "name": "python",
   "nbconvert_exporter": "python",
   "pygments_lexer": "ipython3",
   "version": "3.9.7"
  }
 },
 "nbformat": 4,
 "nbformat_minor": 5
}
